{
 "cells": [
  {
   "cell_type": "code",
   "execution_count": 1,
   "metadata": {},
   "outputs": [
    {
     "name": "stdout",
     "output_type": "stream",
     "text": [
      "IPython console for SymPy 1.6.1 (Python 3.8.3-64-bit) (ground types: gmpy)\n",
      "\n",
      "These commands were executed:\n",
      ">>> from __future__ import division\n",
      ">>> from sympy import *\n",
      ">>> x, y, z, t = symbols('x y z t')\n",
      ">>> k, m, n = symbols('k m n', integer=True)\n",
      ">>> f, g, h = symbols('f g h', cls=Function)\n",
      ">>> init_printing()\n",
      "\n",
      "Documentation can be found at https://docs.sympy.org/1.6.1/\n",
      "\n"
     ]
    }
   ],
   "source": [
    "from sympy import init_session\n",
    "init_session(use_latex=True)\n",
    "from IPython.display import display, Math"
   ]
  },
  {
   "cell_type": "markdown",
   "metadata": {},
   "source": [
    "## Polinomios $S_m(n)$\n",
    "$$\\sum_{i=1}^{n}i^m = S_{m}(n)=m \\left(\\int_0^n S_{m-1}(x) dx - n \\int_{-1}^0 S_{m-1}(x) dx \\right)$$"
   ]
  },
  {
   "cell_type": "code",
   "execution_count": 2,
   "metadata": {},
   "outputs": [
    {
     "name": "stdout",
     "output_type": "stream",
     "text": [
      "Polinomios de Sm(n) 5\n"
     ]
    },
    {
     "data": {
      "text/latex": [
       "$\\displaystyle S_{1}(x) = \\frac{n^{2}}{2} + \\frac{n}{2}$"
      ],
      "text/plain": [
       "<IPython.core.display.Math object>"
      ]
     },
     "metadata": {},
     "output_type": "display_data"
    },
    {
     "data": {
      "text/latex": [
       "$\\displaystyle S_{2}(x) = \\frac{n^{3}}{3} + \\frac{n^{2}}{2} + \\frac{n}{6}$"
      ],
      "text/plain": [
       "<IPython.core.display.Math object>"
      ]
     },
     "metadata": {},
     "output_type": "display_data"
    },
    {
     "data": {
      "text/latex": [
       "$\\displaystyle S_{3}(x) = \\frac{n^{4}}{4} + \\frac{n^{3}}{2} + \\frac{n^{2}}{4}$"
      ],
      "text/plain": [
       "<IPython.core.display.Math object>"
      ]
     },
     "metadata": {},
     "output_type": "display_data"
    },
    {
     "data": {
      "text/latex": [
       "$\\displaystyle S_{4}(x) = \\frac{n^{5}}{5} + \\frac{n^{4}}{2} + \\frac{n^{3}}{3} - \\frac{n}{30}$"
      ],
      "text/plain": [
       "<IPython.core.display.Math object>"
      ]
     },
     "metadata": {},
     "output_type": "display_data"
    },
    {
     "data": {
      "text/latex": [
       "$\\displaystyle S_{5}(x) = \\frac{n^{6}}{6} + \\frac{n^{5}}{2} + \\frac{5 n^{4}}{12} - \\frac{n^{2}}{12}$"
      ],
      "text/plain": [
       "<IPython.core.display.Math object>"
      ]
     },
     "metadata": {},
     "output_type": "display_data"
    }
   ],
   "source": [
    "h = int(input(\"Polinomios de Sm(n) \"))\n",
    "n=Symbol(\"n\")\n",
    "P=n\n",
    "for m in range(1,h+1,1):\n",
    "    P=(integrate(P,(n,0,n))-n*integrate(P,(n,-1,0)))*m\n",
    "        \n",
    "    latex_code = \"S_{%i}(x) = %s\" %(m, latex(P))    \n",
    "    display( Math( latex_code ) )"
   ]
  },
  {
   "cell_type": "markdown",
   "metadata": {},
   "source": [
    "## Polinomios $S_m(n-1)$\n",
    "$$\\sum_{i=0}^{n-1}i^m=S_{m}(n-1)=m \\left(\\int_0^n S_{m-1}(x-1) dx - n \\int_{0}^1 S_{m-1}(x-1) dx \\right)$$"
   ]
  },
  {
   "cell_type": "code",
   "execution_count": 3,
   "metadata": {},
   "outputs": [
    {
     "name": "stdout",
     "output_type": "stream",
     "text": [
      "Polinomio Sm(n) 5\n"
     ]
    },
    {
     "data": {
      "text/latex": [
       "$\\displaystyle S_{1}(x) = \\frac{n^{2}}{2} - \\frac{n}{2}$"
      ],
      "text/plain": [
       "<IPython.core.display.Math object>"
      ]
     },
     "metadata": {},
     "output_type": "display_data"
    },
    {
     "data": {
      "text/latex": [
       "$\\displaystyle S_{2}(x) = \\frac{n^{3}}{3} - \\frac{n^{2}}{2} + \\frac{n}{6}$"
      ],
      "text/plain": [
       "<IPython.core.display.Math object>"
      ]
     },
     "metadata": {},
     "output_type": "display_data"
    },
    {
     "data": {
      "text/latex": [
       "$\\displaystyle S_{3}(x) = \\frac{n^{4}}{4} - \\frac{n^{3}}{2} + \\frac{n^{2}}{4}$"
      ],
      "text/plain": [
       "<IPython.core.display.Math object>"
      ]
     },
     "metadata": {},
     "output_type": "display_data"
    },
    {
     "data": {
      "text/latex": [
       "$\\displaystyle S_{4}(x) = \\frac{n^{5}}{5} - \\frac{n^{4}}{2} + \\frac{n^{3}}{3} - \\frac{n}{30}$"
      ],
      "text/plain": [
       "<IPython.core.display.Math object>"
      ]
     },
     "metadata": {},
     "output_type": "display_data"
    },
    {
     "data": {
      "text/latex": [
       "$\\displaystyle S_{5}(x) = \\frac{n^{6}}{6} - \\frac{n^{5}}{2} + \\frac{5 n^{4}}{12} - \\frac{n^{2}}{12}$"
      ],
      "text/plain": [
       "<IPython.core.display.Math object>"
      ]
     },
     "metadata": {},
     "output_type": "display_data"
    }
   ],
   "source": [
    "h = int(input(\"Polinomio Sm(n) \"))\n",
    "n=Symbol(\"n\")\n",
    "P=n\n",
    "for m in range(1,h+1,1):\n",
    "    P=(integrate(P,(n,0,n))-n*integrate(P,(n,0,1)))*m\n",
    "        \n",
    "    latex_code = \"S_{%i}(x) = %s\" %(m, latex(P))    \n",
    "    display( Math( latex_code ) )"
   ]
  },
  {
   "cell_type": "markdown",
   "metadata": {},
   "source": [
    "## Números de Bernoulli\n",
    "\n",
    "$$B_m=-\\int_{0}^1 S_{m-1}(x-1) dx$$"
   ]
  },
  {
   "cell_type": "code",
   "execution_count": 4,
   "metadata": {},
   "outputs": [
    {
     "name": "stdout",
     "output_type": "stream",
     "text": [
      "Número de Bernoulli 5\n"
     ]
    },
    {
     "data": {
      "text/latex": [
       "$\\displaystyle B_{1} = - \\frac{1}{2}$"
      ],
      "text/plain": [
       "<IPython.core.display.Math object>"
      ]
     },
     "metadata": {},
     "output_type": "display_data"
    },
    {
     "data": {
      "text/latex": [
       "$\\displaystyle B_{2} = \\frac{1}{6}$"
      ],
      "text/plain": [
       "<IPython.core.display.Math object>"
      ]
     },
     "metadata": {},
     "output_type": "display_data"
    },
    {
     "data": {
      "text/latex": [
       "$\\displaystyle B_{3} = 0$"
      ],
      "text/plain": [
       "<IPython.core.display.Math object>"
      ]
     },
     "metadata": {},
     "output_type": "display_data"
    },
    {
     "data": {
      "text/latex": [
       "$\\displaystyle B_{4} = - \\frac{1}{30}$"
      ],
      "text/plain": [
       "<IPython.core.display.Math object>"
      ]
     },
     "metadata": {},
     "output_type": "display_data"
    },
    {
     "data": {
      "text/latex": [
       "$\\displaystyle B_{5} = 0$"
      ],
      "text/plain": [
       "<IPython.core.display.Math object>"
      ]
     },
     "metadata": {},
     "output_type": "display_data"
    }
   ],
   "source": [
    "h = int(input(\"Número de Bernoulli \"))\n",
    "n=Symbol(\"n\")\n",
    "P=n\n",
    "for m in range(1,h+1,1):\n",
    "    B=-m*integrate(P,(n,0,1))\n",
    "    P=m*integrate(P,(n,0,n))+n*B\n",
    "        \n",
    "    latex_code = \"B_{%i} = %s\" %(m, latex(B))    \n",
    "    display( Math( latex_code ) )"
   ]
  },
  {
   "cell_type": "markdown",
   "metadata": {},
   "source": [
    "## Polinomios de Bernoulli\n",
    "$$B_m(x)=m \\int_0^x B_{m-1}(t) dt - m \\int_0^1 \\int_0^x B_{m-1}(t) dt dx $$"
   ]
  },
  {
   "cell_type": "code",
   "execution_count": 5,
   "metadata": {},
   "outputs": [
    {
     "name": "stdout",
     "output_type": "stream",
     "text": [
      "Polinomio Combinatorios 5\n"
     ]
    },
    {
     "data": {
      "text/latex": [
       "$\\displaystyle B_{1}(x) = x - \\frac{1}{2}$"
      ],
      "text/plain": [
       "<IPython.core.display.Math object>"
      ]
     },
     "metadata": {},
     "output_type": "display_data"
    },
    {
     "data": {
      "text/latex": [
       "$\\displaystyle B_{2}(x) = x^{2} - x + \\frac{1}{6}$"
      ],
      "text/plain": [
       "<IPython.core.display.Math object>"
      ]
     },
     "metadata": {},
     "output_type": "display_data"
    },
    {
     "data": {
      "text/latex": [
       "$\\displaystyle B_{3}(x) = x^{3} - \\frac{3 x^{2}}{2} + \\frac{x}{2}$"
      ],
      "text/plain": [
       "<IPython.core.display.Math object>"
      ]
     },
     "metadata": {},
     "output_type": "display_data"
    },
    {
     "data": {
      "text/latex": [
       "$\\displaystyle B_{4}(x) = x^{4} - 2 x^{3} + x^{2} - \\frac{1}{30}$"
      ],
      "text/plain": [
       "<IPython.core.display.Math object>"
      ]
     },
     "metadata": {},
     "output_type": "display_data"
    },
    {
     "data": {
      "text/latex": [
       "$\\displaystyle B_{5}(x) = x^{5} - \\frac{5 x^{4}}{2} + \\frac{5 x^{3}}{3} - \\frac{x}{6}$"
      ],
      "text/plain": [
       "<IPython.core.display.Math object>"
      ]
     },
     "metadata": {},
     "output_type": "display_data"
    }
   ],
   "source": [
    "h = int(input(\"Polinomio Combinatorios \"))\n",
    "x=Symbol(\"x\")\n",
    "P=1\n",
    "for m in range(1,h+1,1):\n",
    "    P=(integrate(P,(x,0,x))-integrate(integrate(P,(x,0,x)),(x,0,1)))*m\n",
    "        \n",
    "    latex_code = \"B_{%i}(x) = %s\" %(m, latex(P))    \n",
    "    display( Math( latex_code ) )"
   ]
  },
  {
   "cell_type": "markdown",
   "metadata": {},
   "source": [
    "## Polinomios de Euler\n",
    "\n",
    "$$E_m(x)=m \\int_0^x E_{m-1}(t) dt - \\frac{m}{2}\\int_0^1 E_{m-1}(t) dt$$"
   ]
  },
  {
   "cell_type": "code",
   "execution_count": 6,
   "metadata": {},
   "outputs": [
    {
     "name": "stdout",
     "output_type": "stream",
     "text": [
      "Polinomios de Euler 5\n"
     ]
    },
    {
     "data": {
      "text/latex": [
       "$\\displaystyle E_{1}(x) = x - \\frac{1}{2}$"
      ],
      "text/plain": [
       "<IPython.core.display.Math object>"
      ]
     },
     "metadata": {},
     "output_type": "display_data"
    },
    {
     "data": {
      "text/latex": [
       "$\\displaystyle E_{2}(x) = x^{2} - x$"
      ],
      "text/plain": [
       "<IPython.core.display.Math object>"
      ]
     },
     "metadata": {},
     "output_type": "display_data"
    },
    {
     "data": {
      "text/latex": [
       "$\\displaystyle E_{3}(x) = x^{3} - \\frac{3 x^{2}}{2} + \\frac{1}{4}$"
      ],
      "text/plain": [
       "<IPython.core.display.Math object>"
      ]
     },
     "metadata": {},
     "output_type": "display_data"
    },
    {
     "data": {
      "text/latex": [
       "$\\displaystyle E_{4}(x) = x^{4} - 2 x^{3} + x$"
      ],
      "text/plain": [
       "<IPython.core.display.Math object>"
      ]
     },
     "metadata": {},
     "output_type": "display_data"
    },
    {
     "data": {
      "text/latex": [
       "$\\displaystyle E_{5}(x) = x^{5} - \\frac{5 x^{4}}{2} + \\frac{5 x^{2}}{2} - \\frac{1}{2}$"
      ],
      "text/plain": [
       "<IPython.core.display.Math object>"
      ]
     },
     "metadata": {},
     "output_type": "display_data"
    }
   ],
   "source": [
    "h = int(input(\"Polinomios de Euler \"))\n",
    "x=Symbol(\"x\")\n",
    "P=1\n",
    "for m in range(1,h+1,1):\n",
    "    P=(integrate(P,(x,0,x))-integrate(P,(x,0,1))/2)*m\n",
    "        \n",
    "    latex_code = \"E_{%i}(x) = %s\" %(m, latex(P))    \n",
    "    display( Math( latex_code ) )"
   ]
  },
  {
   "cell_type": "markdown",
   "metadata": {},
   "source": [
    "## Polinomios $A_m(n)$\n",
    "$$\\sum_{i=1}^n (-1)^{i+1} i^m = A_m(n)=\\frac{(-1)^{n+1}}{2} \\left(m\\int_{0}^{x}E_{m-1}(t)dt+\\cfrac{m}{2}\\int_{-1}^{0}E_{m-1}(t)dt\\right)+\\cfrac{m}{4}\\int_{-1}^{0}E_{m-1}(t)dt,$$\n",
    "<br>\n",
    "donde $E_m(t)$ son polinomios de Euler evaluados en $t=x+1$"
   ]
  },
  {
   "cell_type": "code",
   "execution_count": 7,
   "metadata": {},
   "outputs": [
    {
     "name": "stdout",
     "output_type": "stream",
     "text": [
      "Polinomios Am(n) 5\n"
     ]
    },
    {
     "data": {
      "text/latex": [
       "$\\displaystyle A_{0}(n) = \\frac{\\left(-1\\right)^{n + 1}}{2} + \\frac{1}{2}$"
      ],
      "text/plain": [
       "<IPython.core.display.Math object>"
      ]
     },
     "metadata": {},
     "output_type": "display_data"
    },
    {
     "data": {
      "text/latex": [
       "$\\displaystyle A_{1}(n) = \\left(-1\\right)^{n + 1} \\left(\\frac{n}{2} + \\frac{1}{4}\\right) + \\frac{1}{4}$"
      ],
      "text/plain": [
       "<IPython.core.display.Math object>"
      ]
     },
     "metadata": {},
     "output_type": "display_data"
    },
    {
     "data": {
      "text/latex": [
       "$\\displaystyle A_{2}(n) = \\left(-1\\right)^{n + 1} \\left(\\frac{n^{2}}{2} + \\frac{n}{2}\\right)$"
      ],
      "text/plain": [
       "<IPython.core.display.Math object>"
      ]
     },
     "metadata": {},
     "output_type": "display_data"
    },
    {
     "data": {
      "text/latex": [
       "$\\displaystyle A_{3}(n) = \\left(-1\\right)^{n + 1} \\left(\\frac{n^{3}}{2} + \\frac{3 n^{2}}{4} - \\frac{1}{8}\\right) - \\frac{1}{8}$"
      ],
      "text/plain": [
       "<IPython.core.display.Math object>"
      ]
     },
     "metadata": {},
     "output_type": "display_data"
    },
    {
     "data": {
      "text/latex": [
       "$\\displaystyle A_{4}(n) = \\left(-1\\right)^{n + 1} \\left(\\frac{n^{4}}{2} + n^{3} - \\frac{n}{2}\\right)$"
      ],
      "text/plain": [
       "<IPython.core.display.Math object>"
      ]
     },
     "metadata": {},
     "output_type": "display_data"
    },
    {
     "data": {
      "text/latex": [
       "$\\displaystyle A_{5}(n) = \\left(-1\\right)^{n + 1} \\left(\\frac{n^{5}}{2} + \\frac{5 n^{4}}{4} - \\frac{5 n^{2}}{4} + \\frac{1}{4}\\right) + \\frac{1}{4}$"
      ],
      "text/plain": [
       "<IPython.core.display.Math object>"
      ]
     },
     "metadata": {},
     "output_type": "display_data"
    }
   ],
   "source": [
    "h = int(input(\"Polinomios Am(n) \"))\n",
    "n=symbols(\"n\")\n",
    "P=n**0*1/2\n",
    "A=(-1)**(n+1)/2+P\n",
    "latex_code = \"A_{%i}(n) = %s\" %(0, latex(A))    \n",
    "display( Math( latex_code ) )\n",
    "for m in range(1,h+1):\n",
    "    P=((integrate(P,n))+integrate(P,(n,-1,0))/2)*m\n",
    "    A=(-1)**(n+1)*P+P.subs(n,0)\n",
    "    latex_code = \"A_{%i}(n) = %s\" %(m, latex(A))    \n",
    "    display( Math( latex_code ) )"
   ]
  },
  {
   "cell_type": "markdown",
   "metadata": {},
   "source": [
    "## Polinomos Binomiales\n",
    "$$C_{m}(x)=m\\int_a^x C_{m-1}(x) dx$$"
   ]
  },
  {
   "cell_type": "code",
   "execution_count": 8,
   "metadata": {},
   "outputs": [
    {
     "name": "stdout",
     "output_type": "stream",
     "text": [
      "Polinomios binomiales 5\n",
      "Digite el valor de a 5\n"
     ]
    },
    {
     "data": {
      "text/latex": [
       "$\\displaystyle C_{1}(x) = x - 5$"
      ],
      "text/plain": [
       "<IPython.core.display.Math object>"
      ]
     },
     "metadata": {},
     "output_type": "display_data"
    },
    {
     "data": {
      "text/latex": [
       "$\\displaystyle C_{2}(x) = x^{2} - 10 x + 25$"
      ],
      "text/plain": [
       "<IPython.core.display.Math object>"
      ]
     },
     "metadata": {},
     "output_type": "display_data"
    },
    {
     "data": {
      "text/latex": [
       "$\\displaystyle C_{3}(x) = x^{3} - 15 x^{2} + 75 x - 125$"
      ],
      "text/plain": [
       "<IPython.core.display.Math object>"
      ]
     },
     "metadata": {},
     "output_type": "display_data"
    },
    {
     "data": {
      "text/latex": [
       "$\\displaystyle C_{4}(x) = x^{4} - 20 x^{3} + 150 x^{2} - 500 x + 625$"
      ],
      "text/plain": [
       "<IPython.core.display.Math object>"
      ]
     },
     "metadata": {},
     "output_type": "display_data"
    },
    {
     "data": {
      "text/latex": [
       "$\\displaystyle C_{5}(x) = x^{5} - 25 x^{4} + 250 x^{3} - 1250 x^{2} + 3125 x - 3125$"
      ],
      "text/plain": [
       "<IPython.core.display.Math object>"
      ]
     },
     "metadata": {},
     "output_type": "display_data"
    }
   ],
   "source": [
    "h = int(input(\"Polinomios binomiales \"))\n",
    "a = int(input(\"Digite el valor de a \"))\n",
    "x=Symbol(\"x\")\n",
    "H=1\n",
    "for m in range(1,h+1,1):\n",
    "    H=(integrate(H,(x,a,x)))*m\n",
    "        \n",
    "    latex_code = \"C_{%i}(x) = %s\" %(m, latex(H))    \n",
    "    display( Math( latex_code ) )"
   ]
  },
  {
   "cell_type": "markdown",
   "metadata": {},
   "source": [
    "## Polinomios de Hermite probabilistas\n",
    "$$Hp_{m}(x)=m\\int_0^x Hp_{m-1}(x) dx - Hp'_{m-1}(0)$$"
   ]
  },
  {
   "cell_type": "code",
   "execution_count": 9,
   "metadata": {},
   "outputs": [
    {
     "name": "stdout",
     "output_type": "stream",
     "text": [
      "Polinomio Hermite probabilistas 5\n"
     ]
    },
    {
     "data": {
      "text/latex": [
       "$\\displaystyle Hp_{1}(x) = x$"
      ],
      "text/plain": [
       "<IPython.core.display.Math object>"
      ]
     },
     "metadata": {},
     "output_type": "display_data"
    },
    {
     "data": {
      "text/latex": [
       "$\\displaystyle Hp_{2}(x) = x^{2} - 1$"
      ],
      "text/plain": [
       "<IPython.core.display.Math object>"
      ]
     },
     "metadata": {},
     "output_type": "display_data"
    },
    {
     "data": {
      "text/latex": [
       "$\\displaystyle Hp_{3}(x) = x^{3} - 3 x$"
      ],
      "text/plain": [
       "<IPython.core.display.Math object>"
      ]
     },
     "metadata": {},
     "output_type": "display_data"
    },
    {
     "data": {
      "text/latex": [
       "$\\displaystyle Hp_{4}(x) = x^{4} - 6 x^{2} + 3$"
      ],
      "text/plain": [
       "<IPython.core.display.Math object>"
      ]
     },
     "metadata": {},
     "output_type": "display_data"
    },
    {
     "data": {
      "text/latex": [
       "$\\displaystyle Hp_{5}(x) = x^{5} - 10 x^{3} + 15 x$"
      ],
      "text/plain": [
       "<IPython.core.display.Math object>"
      ]
     },
     "metadata": {},
     "output_type": "display_data"
    }
   ],
   "source": [
    "h = int(input(\"Polinomio Hermite probabilistas \"))\n",
    "x = Symbol(\"x\")\n",
    "H = 1\n",
    "for m in range(1, h+1):\n",
    "    h=diff(H)\n",
    "    H = m*integrate(H, x) - h.subs(x,0)\n",
    "    latex_code = \"Hp_{%i}(x) = %s\" %(m, latex(H))    \n",
    "    display( Math( latex_code ) )"
   ]
  },
  {
   "cell_type": "markdown",
   "metadata": {},
   "source": [
    "## Polinomios de Hermite físicos\n",
    "$$Hf_{m}(x)=2m\\int_0^x Hf_{m-1}(x) dx - Hf'_{m-1}(0)$$"
   ]
  },
  {
   "cell_type": "code",
   "execution_count": 10,
   "metadata": {},
   "outputs": [
    {
     "name": "stdout",
     "output_type": "stream",
     "text": [
      "Polinomio Hermite físicos 5\n"
     ]
    },
    {
     "data": {
      "text/latex": [
       "$\\displaystyle Hf_{1}(x) = 2 x$"
      ],
      "text/plain": [
       "<IPython.core.display.Math object>"
      ]
     },
     "metadata": {},
     "output_type": "display_data"
    },
    {
     "data": {
      "text/latex": [
       "$\\displaystyle Hf_{2}(x) = 4 x^{2} - 2$"
      ],
      "text/plain": [
       "<IPython.core.display.Math object>"
      ]
     },
     "metadata": {},
     "output_type": "display_data"
    },
    {
     "data": {
      "text/latex": [
       "$\\displaystyle Hf_{3}(x) = 8 x^{3} - 12 x$"
      ],
      "text/plain": [
       "<IPython.core.display.Math object>"
      ]
     },
     "metadata": {},
     "output_type": "display_data"
    },
    {
     "data": {
      "text/latex": [
       "$\\displaystyle Hf_{4}(x) = 16 x^{4} - 48 x^{2} + 12$"
      ],
      "text/plain": [
       "<IPython.core.display.Math object>"
      ]
     },
     "metadata": {},
     "output_type": "display_data"
    },
    {
     "data": {
      "text/latex": [
       "$\\displaystyle Hf_{5}(x) = 32 x^{5} - 160 x^{3} + 120 x$"
      ],
      "text/plain": [
       "<IPython.core.display.Math object>"
      ]
     },
     "metadata": {},
     "output_type": "display_data"
    }
   ],
   "source": [
    "h = int(input(\"Polinomio Hermite físicos \"))\n",
    "x = Symbol(\"x\")\n",
    "H = 1\n",
    "for m in range(1, h+1):\n",
    "    h=diff(H)\n",
    "    H = 2*m*integrate(H, x) - h.subs(x,0)\n",
    "    latex_code = \"Hf_{%i}(x) = %s\" %(m, latex(H))    \n",
    "    display( Math( latex_code ) )"
   ]
  },
  {
   "cell_type": "markdown",
   "metadata": {},
   "source": [
    "# Polinomios de Bessel\n",
    "\n",
    "$$W_m=m\\int_0^x W_{m-1}(x) dx - \\frac{m}{4}\\left(2\\int_0^1 W_{m-1}(x) dx - W_{m-1}(x)|_0^1\\right)$$"
   ]
  },
  {
   "cell_type": "code",
   "execution_count": 11,
   "metadata": {},
   "outputs": [
    {
     "name": "stdout",
     "output_type": "stream",
     "text": [
      "Polinomio de Bessel 5\n"
     ]
    },
    {
     "data": {
      "text/latex": [
       "$\\displaystyle W_{1}(x) = x - \\frac{1}{2}$"
      ],
      "text/plain": [
       "<IPython.core.display.Math object>"
      ]
     },
     "metadata": {},
     "output_type": "display_data"
    },
    {
     "data": {
      "text/latex": [
       "$\\displaystyle W_{2}(x) = x^{2} - x + \\frac{1}{2}$"
      ],
      "text/plain": [
       "<IPython.core.display.Math object>"
      ]
     },
     "metadata": {},
     "output_type": "display_data"
    },
    {
     "data": {
      "text/latex": [
       "$\\displaystyle W_{3}(x) = x^{3} - \\frac{3 x^{2}}{2} + \\frac{3 x}{2} - \\frac{1}{2}$"
      ],
      "text/plain": [
       "<IPython.core.display.Math object>"
      ]
     },
     "metadata": {},
     "output_type": "display_data"
    },
    {
     "data": {
      "text/latex": [
       "$\\displaystyle W_{4}(x) = x^{4} - 2 x^{3} + 3 x^{2} - 2 x + 1$"
      ],
      "text/plain": [
       "<IPython.core.display.Math object>"
      ]
     },
     "metadata": {},
     "output_type": "display_data"
    },
    {
     "data": {
      "text/latex": [
       "$\\displaystyle W_{5}(x) = x^{5} - \\frac{5 x^{4}}{2} + 5 x^{3} - 5 x^{2} + 5 x - \\frac{7}{4}$"
      ],
      "text/plain": [
       "<IPython.core.display.Math object>"
      ]
     },
     "metadata": {},
     "output_type": "display_data"
    }
   ],
   "source": [
    "h = int(input(\"Polinomio de Bessel \"))\n",
    "x=Symbol(\"x\")\n",
    "W=x**0\n",
    "for m in range(1,h+1,1):\n",
    "    W=(integrate(W,x)-(2*integrate(W,(x,0,1))+W.subs(x,0)-W.subs(x,1))/4)*m\n",
    "    \n",
    "    latex_code = \"W_{%i}(x) = %s\" %(m, latex(W))    \n",
    "    display( Math( latex_code ) )"
   ]
  },
  {
   "cell_type": "markdown",
   "metadata": {},
   "source": [
    "## Polinomios de Bernoulli-Kummer\n",
    "$$B_{1,N+1,m}(x)=m\\int_0^x B_{1,N+1,m-1}(t)-mN\\int_0^1\\left(\\int_0^x B_{1,N+1,m-1}(t)dt\\right)(1-x)^{N-1}dx$$"
   ]
  },
  {
   "cell_type": "code",
   "execution_count": 12,
   "metadata": {},
   "outputs": [
    {
     "name": "stdout",
     "output_type": "stream",
     "text": [
      "Polinomios de Bernoulli Kummer 5\n",
      "Escriba el Valor de N 5\n"
     ]
    },
    {
     "data": {
      "text/latex": [
       "$\\displaystyle K_{1}(x) = x - \\frac{5 \\left(1 - x\\right)^{4}}{2}$"
      ],
      "text/plain": [
       "<IPython.core.display.Math object>"
      ]
     },
     "metadata": {},
     "output_type": "display_data"
    },
    {
     "data": {
      "text/latex": [
       "$\\displaystyle K_{2}(x) = - x^{5} + 5 x^{4} - 10 x^{3} + 11 x^{2} - 5 x + \\frac{5 \\left(1 - x\\right)^{4}}{2}$"
      ],
      "text/plain": [
       "<IPython.core.display.Math object>"
      ]
     },
     "metadata": {},
     "output_type": "display_data"
    },
    {
     "data": {
      "text/latex": [
       "$\\displaystyle K_{3}(x) = - \\frac{x^{6}}{2} + \\frac{9 x^{5}}{2} - 15 x^{4} + 26 x^{3} - \\frac{45 x^{2}}{2} + \\frac{15 x}{2} - \\frac{15 \\left(1 - x\\right)^{4}}{7}$"
      ],
      "text/plain": [
       "<IPython.core.display.Math object>"
      ]
     },
     "metadata": {},
     "output_type": "display_data"
    },
    {
     "data": {
      "text/latex": [
       "$\\displaystyle K_{4}(x) = - \\frac{2 x^{7}}{7} + 3 x^{6} - \\frac{96 x^{5}}{7} + \\frac{242 x^{4}}{7} - \\frac{330 x^{3}}{7} + \\frac{225 x^{2}}{7} - \\frac{60 x}{7} + \\frac{47 \\left(1 - x\\right)^{4}}{28}$"
      ],
      "text/plain": [
       "<IPython.core.display.Math object>"
      ]
     },
     "metadata": {},
     "output_type": "display_data"
    },
    {
     "data": {
      "text/latex": [
       "$\\displaystyle K_{5}(x) = - \\frac{5 x^{8}}{28} + \\frac{15 x^{7}}{7} - \\frac{80 x^{6}}{7} + \\frac{145 x^{5}}{4} - \\frac{1885 x^{4}}{28} + \\frac{985 x^{3}}{14} - \\frac{535 x^{2}}{14} + \\frac{235 x}{28} - \\frac{530 \\left(1 - x\\right)^{4}}{441}$"
      ],
      "text/plain": [
       "<IPython.core.display.Math object>"
      ]
     },
     "metadata": {},
     "output_type": "display_data"
    }
   ],
   "source": [
    "h = int(input(\"Polinomios de Bernoulli Kummer \"))\n",
    "N=int(input(\"Escriba el Valor de N \"))\n",
    "x=Symbol(\"x\")\n",
    "K=x**0\n",
    "for m in range(1,h+1,1):\n",
    "    K=(integrate(K,x)-N*integrate(integrate(K,x),(x,0,1))*(1-x)**(N-1))*m\n",
    "    \n",
    "    latex_code = \"K_{%i}(x) = %s\" %(m, latex(K))    \n",
    "    display( Math( latex_code ) )"
   ]
  },
  {
   "cell_type": "markdown",
   "metadata": {},
   "source": [
    "## Polinomios de Bernoulli de orden 2\n",
    "$$B^2_m(x)=m \\int_0^x B^2_{m-1}(t) dt - m \\int_{[0,1]^2}\\left(\\int_0^{z_1+z_2} B^2_{m-1}(t) dt dx\\right) dz_1 dz_2 $$"
   ]
  },
  {
   "cell_type": "code",
   "execution_count": 13,
   "metadata": {},
   "outputs": [
    {
     "name": "stdout",
     "output_type": "stream",
     "text": [
      "Polinomio Combinatorios 5\n"
     ]
    },
    {
     "data": {
      "text/latex": [
       "$\\displaystyle B_{1}(x) = x - 1$"
      ],
      "text/plain": [
       "<IPython.core.display.Math object>"
      ]
     },
     "metadata": {},
     "output_type": "display_data"
    },
    {
     "data": {
      "text/latex": [
       "$\\displaystyle B_{2}(x) = x^{2} - 2 x + \\frac{5}{6}$"
      ],
      "text/plain": [
       "<IPython.core.display.Math object>"
      ]
     },
     "metadata": {},
     "output_type": "display_data"
    },
    {
     "data": {
      "text/latex": [
       "$\\displaystyle B_{3}(x) = x^{3} - 3 x^{2} + \\frac{5 x}{2} - \\frac{1}{2}$"
      ],
      "text/plain": [
       "<IPython.core.display.Math object>"
      ]
     },
     "metadata": {},
     "output_type": "display_data"
    },
    {
     "data": {
      "text/latex": [
       "$\\displaystyle B_{4}(x) = x^{4} - 4 x^{3} + 5 x^{2} - 2 x + \\frac{1}{10}$"
      ],
      "text/plain": [
       "<IPython.core.display.Math object>"
      ]
     },
     "metadata": {},
     "output_type": "display_data"
    },
    {
     "data": {
      "text/latex": [
       "$\\displaystyle B_{5}(x) = x^{5} - 5 x^{4} + \\frac{25 x^{3}}{3} - 5 x^{2} + \\frac{x}{2} + \\frac{1}{6}$"
      ],
      "text/plain": [
       "<IPython.core.display.Math object>"
      ]
     },
     "metadata": {},
     "output_type": "display_data"
    }
   ],
   "source": [
    "h = int(input(\"Polinomio Combinatorios \"))\n",
    "x=Symbol(\"x\")\n",
    "y=Symbol(\"y\")\n",
    "z=Symbol(\"z\")\n",
    "s=Symbol(\"s\")\n",
    "P=1\n",
    "for m in range(1,h+1,1):\n",
    "    p=integrate(P,(x,0,y+z))\n",
    "    c1=integrate(p,(z,0,1))\n",
    "    c2=integrate(c1,(y,0,1))\n",
    "    P=(integrate(P,(x,0,x))-c2)*m\n",
    "        \n",
    "    latex_code = \"B_{%i}(x) = %s\" %(m, latex(P))    \n",
    "    display( Math( latex_code ) )"
   ]
  },
  {
   "cell_type": "markdown",
   "metadata": {},
   "source": [
    "## Polinomios de Bernoulli de orden 3\n",
    "$$B^3_m(x)=m \\int_0^x B^3_{m-1}(t) dt - m \\int_{[0,1]^3}\\left(\\int_0^{z_1+z_2+z_3} B^3_{m-1}(t) dt dx\\right) dz_1 dz_2 dz_3$$"
   ]
  },
  {
   "cell_type": "code",
   "execution_count": 14,
   "metadata": {},
   "outputs": [
    {
     "name": "stdout",
     "output_type": "stream",
     "text": [
      "Polinomios de Bernoulli de orden 3 5\n"
     ]
    },
    {
     "data": {
      "text/latex": [
       "$\\displaystyle B_{1}(x) = x - \\frac{3}{2}$"
      ],
      "text/plain": [
       "<IPython.core.display.Math object>"
      ]
     },
     "metadata": {},
     "output_type": "display_data"
    },
    {
     "data": {
      "text/latex": [
       "$\\displaystyle B_{2}(x) = \\frac{x^{2}}{2} - \\frac{3 x}{2} + 1$"
      ],
      "text/plain": [
       "<IPython.core.display.Math object>"
      ]
     },
     "metadata": {},
     "output_type": "display_data"
    },
    {
     "data": {
      "text/latex": [
       "$\\displaystyle B_{3}(x) = \\frac{x^{3}}{6} - \\frac{3 x^{2}}{4} + x - \\frac{3}{8}$"
      ],
      "text/plain": [
       "<IPython.core.display.Math object>"
      ]
     },
     "metadata": {},
     "output_type": "display_data"
    },
    {
     "data": {
      "text/latex": [
       "$\\displaystyle B_{4}(x) = \\frac{x^{4}}{24} - \\frac{x^{3}}{4} + \\frac{x^{2}}{2} - \\frac{3 x}{8} + \\frac{19}{240}$"
      ],
      "text/plain": [
       "<IPython.core.display.Math object>"
      ]
     },
     "metadata": {},
     "output_type": "display_data"
    },
    {
     "data": {
      "text/latex": [
       "$\\displaystyle B_{5}(x) = \\frac{x^{5}}{120} - \\frac{x^{4}}{16} + \\frac{x^{3}}{6} - \\frac{3 x^{2}}{16} + \\frac{19 x}{240} - \\frac{1}{160}$"
      ],
      "text/plain": [
       "<IPython.core.display.Math object>"
      ]
     },
     "metadata": {},
     "output_type": "display_data"
    }
   ],
   "source": [
    "h = int(input(\"Polinomios de Bernoulli de orden 3 \"))\n",
    "x=Symbol(\"x\")\n",
    "a=Symbol(\"a\")\n",
    "b=Symbol(\"b\")\n",
    "c=Symbol(\"c\")\n",
    "s=Symbol(\"s\")\n",
    "P=1\n",
    "for m in range(1,h+1,1):\n",
    "    p=integrate(P,(x,0,a+b+c))\n",
    "    c1=integrate(p,(a,0,1))\n",
    "    c2=integrate(c1,(b,0,1))\n",
    "    c3=integrate(c2,(c,0,1))\n",
    "    P=(integrate(P,(x,0,x))-c3)\n",
    "    \n",
    "    latex_code = \"B_{%i}(x) = %s\" %(m, latex(P))    \n",
    "    display( Math( latex_code ) )"
   ]
  },
  {
   "cell_type": "markdown",
   "metadata": {},
   "source": [
    "## Polinomios tipo Bernoulli de primer orden III\n",
    "\n",
    "$$B^{III}_m(x)=m\\left(\\int_0^xB^{III}_{m-1}(t)dt+2\\int_{0}^1 \\int_0^x B^{III}_{m-1}(t)dtdx-\\int_0^2 \\int_0^x B^{III}_{m-1}(t)dtdx+\\int_{-1}^0 \\int_0^x B^{III}_{m-1}(t)dtdx\\right)$$\n",
    "<br>\n",
    "$$B^{III}_m(x)=m\\left(\\int_0^xB^{III}_{m-1}(t)dt+\\int_{1}^2 \\int_0^x B^{III}_{m-1}(t)dtdx-\\int_{-1}^1 \\int_0^x B^{III}_{m-1}(t)dtdx\\right)$$"
   ]
  },
  {
   "cell_type": "code",
   "execution_count": 15,
   "metadata": {},
   "outputs": [
    {
     "name": "stdout",
     "output_type": "stream",
     "text": [
      "Polinomio de Bernoulli 5\n"
     ]
    },
    {
     "data": {
      "text/latex": [
       "$\\displaystyle B_{1}(x) = x + \\frac{3}{2}$"
      ],
      "text/plain": [
       "<IPython.core.display.Math object>"
      ]
     },
     "metadata": {},
     "output_type": "display_data"
    },
    {
     "data": {
      "text/latex": [
       "$\\displaystyle B_{2}(x) = x^{2} + 3 x + \\frac{37}{6}$"
      ],
      "text/plain": [
       "<IPython.core.display.Math object>"
      ]
     },
     "metadata": {},
     "output_type": "display_data"
    },
    {
     "data": {
      "text/latex": [
       "$\\displaystyle B_{3}(x) = x^{3} + \\frac{9 x^{2}}{2} + \\frac{37 x}{2} + 39$"
      ],
      "text/plain": [
       "<IPython.core.display.Math object>"
      ]
     },
     "metadata": {},
     "output_type": "display_data"
    },
    {
     "data": {
      "text/latex": [
       "$\\displaystyle B_{4}(x) = x^{4} + 6 x^{3} + 37 x^{2} + 156 x + \\frac{9719}{30}$"
      ],
      "text/plain": [
       "<IPython.core.display.Math object>"
      ]
     },
     "metadata": {},
     "output_type": "display_data"
    },
    {
     "data": {
      "text/latex": [
       "$\\displaystyle B_{5}(x) = x^{5} + \\frac{15 x^{4}}{2} + \\frac{185 x^{3}}{3} + 390 x^{2} + \\frac{9719 x}{6} + 3365$"
      ],
      "text/plain": [
       "<IPython.core.display.Math object>"
      ]
     },
     "metadata": {},
     "output_type": "display_data"
    }
   ],
   "source": [
    "h = int(input(\"Polinomio de Bernoulli \"))\n",
    "x=Symbol(\"x\")\n",
    "P=1\n",
    "for m in range(1,h+1,1):\n",
    "    p=integrate(P,(x,0,x))\n",
    "    c=integrate(p,(x,1,2))-integrate(p,(x,-1,1))\n",
    "    P=(integrate(P,(x,0,x))+c)*m\n",
    "        \n",
    "    latex_code = \"B_{%i}(x) = %s\" %(m, latex(P))    \n",
    "    display( Math( latex_code ) )"
   ]
  },
  {
   "cell_type": "markdown",
   "metadata": {},
   "source": [
    "## Polinomios tipo Bernoulli de segundo orden I\n",
    "$$B^I_{m,2}(x)=\\int_0^x B^I_{(m-1),2}(t) dt - \\int_1^2 \\int_0^x \\int_0^x B^I_{(m-1),2}(t) dt dx dx- \\int_0^1 \\int_0^x \\int_0^x B^I_{(m-1),2}(t) dt dx dx$$"
   ]
  },
  {
   "cell_type": "code",
   "execution_count": 16,
   "metadata": {},
   "outputs": [
    {
     "name": "stdout",
     "output_type": "stream",
     "text": [
      "Polinomio de Bernoulli 5\n"
     ]
    },
    {
     "data": {
      "text/latex": [
       "$\\displaystyle B_{1}(x) = x - 1$"
      ],
      "text/plain": [
       "<IPython.core.display.Math object>"
      ]
     },
     "metadata": {},
     "output_type": "display_data"
    },
    {
     "data": {
      "text/latex": [
       "$\\displaystyle B_{2}(x) = \\frac{x^{2}}{2} - x + \\frac{5}{12}$"
      ],
      "text/plain": [
       "<IPython.core.display.Math object>"
      ]
     },
     "metadata": {},
     "output_type": "display_data"
    },
    {
     "data": {
      "text/latex": [
       "$\\displaystyle B_{3}(x) = \\frac{x^{3}}{6} - \\frac{x^{2}}{2} + \\frac{5 x}{12} - \\frac{1}{12}$"
      ],
      "text/plain": [
       "<IPython.core.display.Math object>"
      ]
     },
     "metadata": {},
     "output_type": "display_data"
    },
    {
     "data": {
      "text/latex": [
       "$\\displaystyle B_{4}(x) = \\frac{x^{4}}{24} - \\frac{x^{3}}{6} + \\frac{5 x^{2}}{24} - \\frac{x}{12} + \\frac{1}{240}$"
      ],
      "text/plain": [
       "<IPython.core.display.Math object>"
      ]
     },
     "metadata": {},
     "output_type": "display_data"
    },
    {
     "data": {
      "text/latex": [
       "$\\displaystyle B_{5}(x) = \\frac{x^{5}}{120} - \\frac{x^{4}}{24} + \\frac{5 x^{3}}{72} - \\frac{x^{2}}{24} + \\frac{x}{240} + \\frac{1}{720}$"
      ],
      "text/plain": [
       "<IPython.core.display.Math object>"
      ]
     },
     "metadata": {},
     "output_type": "display_data"
    }
   ],
   "source": [
    "h = int(input(\"Polinomio de Bernoulli \"))\n",
    "x=Symbol(\"x\")\n",
    "P=1\n",
    "for m in range(1,h+1,1):\n",
    "    p=integrate(P,(x,0,x))\n",
    "    u1=integrate(p,(x,0,x))\n",
    "    u=integrate(u1,(x,1,2))-integrate(u1,(x,0,1))\n",
    "    P=(integrate(P,(x,0,x))-u)\n",
    "        \n",
    "    latex_code = \"B_{%i}(x) = %s\" %(m, latex(P))    \n",
    "    display( Math( latex_code ) )"
   ]
  },
  {
   "cell_type": "markdown",
   "metadata": {},
   "source": [
    "$$H_m(x)= \\int_0^x H_{m-1}(t) dt - \\int_0^1\\frac{\\int_t^1 \\int_0^x H_{m-1}(t) dt dx}{1-t} dt$$"
   ]
  },
  {
   "cell_type": "code",
   "execution_count": 17,
   "metadata": {},
   "outputs": [
    {
     "name": "stdout",
     "output_type": "stream",
     "text": [
      "Polinomio Combinatorios 5\n"
     ]
    },
    {
     "data": {
      "text/latex": [
       "$\\displaystyle H_{1}(x) = x - \\frac{3}{4}$"
      ],
      "text/plain": [
       "<IPython.core.display.Math object>"
      ]
     },
     "metadata": {},
     "output_type": "display_data"
    },
    {
     "data": {
      "text/latex": [
       "$\\displaystyle H_{2}(x) = \\frac{x^{2}}{2} - \\frac{3 x}{4} + \\frac{37}{144}$"
      ],
      "text/plain": [
       "<IPython.core.display.Math object>"
      ]
     },
     "metadata": {},
     "output_type": "display_data"
    },
    {
     "data": {
      "text/latex": [
       "$\\displaystyle H_{3}(x) = \\frac{x^{3}}{6} - \\frac{3 x^{2}}{8} + \\frac{37 x}{144} - \\frac{29}{576}$"
      ],
      "text/plain": [
       "<IPython.core.display.Math object>"
      ]
     },
     "metadata": {},
     "output_type": "display_data"
    },
    {
     "data": {
      "text/latex": [
       "$\\displaystyle H_{4}(x) = \\frac{x^{4}}{24} - \\frac{x^{3}}{8} + \\frac{37 x^{2}}{288} - \\frac{29 x}{576} + \\frac{2761}{518400}$"
      ],
      "text/plain": [
       "<IPython.core.display.Math object>"
      ]
     },
     "metadata": {},
     "output_type": "display_data"
    },
    {
     "data": {
      "text/latex": [
       "$\\displaystyle H_{5}(x) = \\frac{x^{5}}{120} - \\frac{x^{4}}{32} + \\frac{37 x^{3}}{864} - \\frac{29 x^{2}}{1152} + \\frac{2761 x}{518400} - \\frac{97}{2073600}$"
      ],
      "text/plain": [
       "<IPython.core.display.Math object>"
      ]
     },
     "metadata": {},
     "output_type": "display_data"
    }
   ],
   "source": [
    "h = int(input(\"Polinomio Combinatorios \"))\n",
    "x=Symbol(\"x\")\n",
    "t=Symbol(\"t\")\n",
    "H=1\n",
    "\n",
    "for m in range(1,h+1,1):\n",
    "    h=integrate(H,(x,0,x))     \n",
    "    h1=integrate(h,(x,x,1))/(1-x)\n",
    "    h2=integrate(h1,(x,0,1))\n",
    "    H=h-h2\n",
    "           \n",
    "    latex_code = \"H_{%i}(x) = %s\" %(m, latex(H))    \n",
    "    display( Math( latex_code ) )"
   ]
  },
  {
   "cell_type": "markdown",
   "metadata": {},
   "source": [
    "$$L_m(t)= \\int_0^t L_{m-1}(x) dx - \\int_0^\\infty \\frac{1}{e^t}\\int_0^t L_{m-1}(x)dxdt$$"
   ]
  },
  {
   "cell_type": "code",
   "execution_count": 18,
   "metadata": {},
   "outputs": [
    {
     "name": "stdout",
     "output_type": "stream",
     "text": [
      "Polinomios 5\n"
     ]
    },
    {
     "data": {
      "text/latex": [
       "$\\displaystyle L_{1}(x) = x - 1$"
      ],
      "text/plain": [
       "<IPython.core.display.Math object>"
      ]
     },
     "metadata": {},
     "output_type": "display_data"
    },
    {
     "data": {
      "text/latex": [
       "$\\displaystyle L_{2}(x) = \\frac{x^{2}}{2} - x$"
      ],
      "text/plain": [
       "<IPython.core.display.Math object>"
      ]
     },
     "metadata": {},
     "output_type": "display_data"
    },
    {
     "data": {
      "text/latex": [
       "$\\displaystyle L_{3}(x) = \\frac{x^{3}}{6} - \\frac{x^{2}}{2}$"
      ],
      "text/plain": [
       "<IPython.core.display.Math object>"
      ]
     },
     "metadata": {},
     "output_type": "display_data"
    },
    {
     "data": {
      "text/latex": [
       "$\\displaystyle L_{4}(x) = \\frac{x^{4}}{24} - \\frac{x^{3}}{6}$"
      ],
      "text/plain": [
       "<IPython.core.display.Math object>"
      ]
     },
     "metadata": {},
     "output_type": "display_data"
    },
    {
     "data": {
      "text/latex": [
       "$\\displaystyle L_{5}(x) = \\frac{x^{5}}{120} - \\frac{x^{4}}{24}$"
      ],
      "text/plain": [
       "<IPython.core.display.Math object>"
      ]
     },
     "metadata": {},
     "output_type": "display_data"
    }
   ],
   "source": [
    "h = int(input(\"Polinomios \"))\n",
    "x=Symbol(\"x\")\n",
    "t=Symbol(\"t\")\n",
    "P=1\n",
    "for m in range(1,h+1,1):\n",
    "    p=integrate(P,(x,0,x))\n",
    "    p=p/(E**x)\n",
    "    P=(integrate(P,(x,0,x))-integrate(p,(x,0,oo)))\n",
    "        \n",
    "    latex_code = \"L_{%i}(x) = %s\" %(m, latex(P))    \n",
    "    display( Math( latex_code ) )"
   ]
  },
  {
   "cell_type": "code",
   "execution_count": null,
   "metadata": {},
   "outputs": [],
   "source": []
  }
 ],
 "metadata": {
  "kernelspec": {
   "display_name": "Python 3",
   "language": "python",
   "name": "python3"
  },
  "language_info": {
   "codemirror_mode": {
    "name": "ipython",
    "version": 3
   },
   "file_extension": ".py",
   "mimetype": "text/x-python",
   "name": "python",
   "nbconvert_exporter": "python",
   "pygments_lexer": "ipython3",
   "version": "3.8.3"
  }
 },
 "nbformat": 4,
 "nbformat_minor": 2
}
